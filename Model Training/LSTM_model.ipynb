{
 "cells": [
  {
   "cell_type": "code",
   "execution_count": 1,
   "metadata": {},
   "outputs": [
    {
     "name": "stderr",
     "output_type": "stream",
     "text": [
      "Using TensorFlow backend.\n"
     ]
    }
   ],
   "source": [
    "from sklearn.model_selection import train_test_split\n",
    "import matplotlib.pyplot as plt\n",
    "import numpy as np\n",
    "import keras\n",
    "from keras.layers import Dense,TimeDistributed, Dropout\n",
    "from keras.models import Sequential\n",
    "from keras.layers import LSTM\n",
    "from keras.preprocessing.sequence import pad_sequences\n",
    "import tensorflow as tf\n",
    "from keras.models import load_model\n",
    "tf.config.experimental.set_visible_devices([], 'GPU')"
   ]
  },
  {
   "cell_type": "code",
   "execution_count": 2,
   "metadata": {},
   "outputs": [],
   "source": [
    "X=np.load('load_data.npy')\n",
    "y=np.load('label.npy')\n",
    "# y=keras.utils.to_categorical(y, num_classes=2, dtype='float32')\n",
    "X_train, X_test, y_train, y_test = train_test_split(X, y, test_size = 0.20)"
   ]
  },
  {
   "cell_type": "code",
   "execution_count": 3,
   "metadata": {},
   "outputs": [],
   "source": [
    "hidden_nodes = int(2/3 * (X_train.shape[1]))"
   ]
  },
  {
   "cell_type": "code",
   "execution_count": 4,
   "metadata": {},
   "outputs": [
    {
     "name": "stdout",
     "output_type": "stream",
     "text": [
      "Model: \"sequential_1\"\n",
      "_________________________________________________________________\n",
      "Layer (type)                 Output Shape              Param #   \n",
      "=================================================================\n",
      "lstm_1 (LSTM)                (None, 5576, 4)           160       \n",
      "_________________________________________________________________\n",
      "dropout_1 (Dropout)          (None, 5576, 4)           0         \n",
      "_________________________________________________________________\n",
      "time_distributed_1 (TimeDist (None, 5576, 1)           5         \n",
      "_________________________________________________________________\n",
      "dropout_2 (Dropout)          (None, 5576, 1)           0         \n",
      "=================================================================\n",
      "Total params: 165\n",
      "Trainable params: 165\n",
      "Non-trainable params: 0\n",
      "_________________________________________________________________\n"
     ]
    }
   ],
   "source": [
    "model = Sequential()\n",
    "model.add(LSTM(4, return_sequences=True,input_shape=(X_train.shape[1],X_train.shape[2])))\n",
    "model.add(Dropout(0.2))\n",
    "model.add(TimeDistributed(Dense(y_train.shape[2],activation='sigmoid'), input_shape=(X_train.shape[1],X_train.shape[2])))\n",
    "model.add(Dropout(0.2))\n",
    "adam=keras.optimizers.Adam(learning_rate=0.05, beta_1=0.9, beta_2=0.999, amsgrad=True)\n",
    "model.compile(loss='binary_crossentropy', optimizer=adam,metrics=['accuracy'])\n",
    "model.summary()"
   ]
  },
  {
   "cell_type": "code",
   "execution_count": 5,
   "metadata": {},
   "outputs": [
    {
     "name": "stdout",
     "output_type": "stream",
     "text": [
      "Train on 12 samples, validate on 3 samples\n",
      "Epoch 1/100\n",
      " - 4s - loss: 2.0383 - accuracy: 0.4139 - val_loss: 0.6836 - val_accuracy: 0.6710\n",
      "Epoch 2/100\n",
      " - 3s - loss: 1.9789 - accuracy: 0.4369 - val_loss: 0.6533 - val_accuracy: 0.6841\n",
      "Epoch 3/100\n",
      " - 3s - loss: 1.9526 - accuracy: 0.4465 - val_loss: 0.6244 - val_accuracy: 0.7052\n",
      "Epoch 4/100\n",
      " - 3s - loss: 1.9267 - accuracy: 0.6281 - val_loss: 0.5954 - val_accuracy: 0.7120\n",
      "Epoch 5/100\n",
      " - 3s - loss: 1.9006 - accuracy: 0.7222 - val_loss: 0.5646 - val_accuracy: 0.7167\n",
      "Epoch 6/100\n",
      " - 3s - loss: 1.8689 - accuracy: 0.7274 - val_loss: 0.5327 - val_accuracy: 0.7212\n",
      "Epoch 7/100\n",
      " - 3s - loss: 1.8427 - accuracy: 0.7137 - val_loss: 0.5113 - val_accuracy: 0.7253\n",
      "Epoch 8/100\n",
      " - 3s - loss: 1.8005 - accuracy: 0.7077 - val_loss: 0.5009 - val_accuracy: 0.7361\n",
      "Epoch 9/100\n",
      " - 3s - loss: 1.8225 - accuracy: 0.7053 - val_loss: 0.4938 - val_accuracy: 0.7495\n",
      "Epoch 10/100\n",
      " - 3s - loss: 1.7824 - accuracy: 0.7118 - val_loss: 0.4839 - val_accuracy: 0.7599\n",
      "Epoch 11/100\n",
      " - 3s - loss: 1.7861 - accuracy: 0.7155 - val_loss: 0.4727 - val_accuracy: 0.7655\n",
      "Epoch 12/100\n",
      " - 3s - loss: 1.7584 - accuracy: 0.7205 - val_loss: 0.4629 - val_accuracy: 0.7668\n",
      "Epoch 13/100\n",
      " - 3s - loss: 1.7601 - accuracy: 0.7277 - val_loss: 0.4568 - val_accuracy: 0.7673\n",
      "Epoch 14/100\n",
      " - 3s - loss: 1.7688 - accuracy: 0.7296 - val_loss: 0.4516 - val_accuracy: 0.7679\n",
      "Epoch 15/100\n",
      " - 3s - loss: 1.7804 - accuracy: 0.7288 - val_loss: 0.4478 - val_accuracy: 0.7692\n",
      "Epoch 16/100\n",
      " - 3s - loss: 1.7625 - accuracy: 0.7309 - val_loss: 0.4454 - val_accuracy: 0.7702\n",
      "Epoch 17/100\n",
      " - 3s - loss: 1.7253 - accuracy: 0.7326 - val_loss: 0.4433 - val_accuracy: 0.7714\n",
      "Epoch 18/100\n",
      " - 3s - loss: 1.7696 - accuracy: 0.7337 - val_loss: 0.4409 - val_accuracy: 0.7732\n",
      "Epoch 19/100\n",
      " - 3s - loss: 1.7371 - accuracy: 0.7310 - val_loss: 0.4383 - val_accuracy: 0.7765\n",
      "Epoch 20/100\n",
      " - 3s - loss: 1.7733 - accuracy: 0.7301 - val_loss: 0.4357 - val_accuracy: 0.7788\n",
      "Epoch 21/100\n",
      " - 3s - loss: 1.7229 - accuracy: 0.7342 - val_loss: 0.4333 - val_accuracy: 0.7802\n",
      "Epoch 22/100\n",
      " - 3s - loss: 1.7590 - accuracy: 0.7308 - val_loss: 0.4312 - val_accuracy: 0.7810\n",
      "Epoch 23/100\n",
      " - 3s - loss: 1.7523 - accuracy: 0.7306 - val_loss: 0.4297 - val_accuracy: 0.7820\n",
      "Epoch 24/100\n",
      " - 3s - loss: 1.7411 - accuracy: 0.7314 - val_loss: 0.4288 - val_accuracy: 0.7826\n",
      "Epoch 25/100\n",
      " - 3s - loss: 1.7247 - accuracy: 0.7339 - val_loss: 0.4283 - val_accuracy: 0.7839\n",
      "Epoch 26/100\n",
      " - 3s - loss: 1.7441 - accuracy: 0.7329 - val_loss: 0.4282 - val_accuracy: 0.7857\n",
      "Epoch 27/100\n",
      " - 3s - loss: 1.7325 - accuracy: 0.7323 - val_loss: 0.4283 - val_accuracy: 0.7868\n",
      "Epoch 28/100\n",
      " - 3s - loss: 1.7433 - accuracy: 0.7343 - val_loss: 0.4285 - val_accuracy: 0.7889\n",
      "Epoch 29/100\n",
      " - 3s - loss: 1.7225 - accuracy: 0.7338 - val_loss: 0.4287 - val_accuracy: 0.7902\n",
      "Epoch 30/100\n",
      " - 3s - loss: 1.7474 - accuracy: 0.7336 - val_loss: 0.4288 - val_accuracy: 0.7915\n",
      "Epoch 31/100\n",
      " - 3s - loss: 1.7539 - accuracy: 0.7325 - val_loss: 0.4288 - val_accuracy: 0.7930\n",
      "Epoch 32/100\n",
      " - 3s - loss: 1.7195 - accuracy: 0.7355 - val_loss: 0.4284 - val_accuracy: 0.7932\n",
      "Epoch 33/100\n",
      " - 3s - loss: 1.7234 - accuracy: 0.7354 - val_loss: 0.4278 - val_accuracy: 0.7937\n",
      "Epoch 34/100\n",
      " - 3s - loss: 1.7356 - accuracy: 0.7355 - val_loss: 0.4268 - val_accuracy: 0.7942\n",
      "Epoch 35/100\n",
      " - 3s - loss: 1.7112 - accuracy: 0.7403 - val_loss: 0.4255 - val_accuracy: 0.7954\n",
      "Epoch 36/100\n",
      " - 3s - loss: 1.7484 - accuracy: 0.7387 - val_loss: 0.4241 - val_accuracy: 0.7961\n",
      "Epoch 37/100\n",
      " - 3s - loss: 1.7098 - accuracy: 0.7456 - val_loss: 0.4226 - val_accuracy: 0.7971\n",
      "Epoch 38/100\n",
      " - 3s - loss: 1.7221 - accuracy: 0.7488 - val_loss: 0.4212 - val_accuracy: 0.7981\n",
      "Epoch 39/100\n",
      " - 3s - loss: 1.7287 - accuracy: 0.7526 - val_loss: 0.4200 - val_accuracy: 0.7987\n",
      "Epoch 40/100\n",
      " - 3s - loss: 1.7006 - accuracy: 0.7561 - val_loss: 0.4194 - val_accuracy: 0.7988\n",
      "Epoch 41/100\n",
      " - 3s - loss: 1.7071 - accuracy: 0.7587 - val_loss: 0.4191 - val_accuracy: 0.8000\n",
      "Epoch 42/100\n",
      " - 3s - loss: 1.7534 - accuracy: 0.7564 - val_loss: 0.4194 - val_accuracy: 0.8006\n",
      "Epoch 43/100\n",
      " - 4s - loss: 1.6990 - accuracy: 0.7591 - val_loss: 0.4199 - val_accuracy: 0.8009\n",
      "Epoch 44/100\n",
      " - 6s - loss: 1.7276 - accuracy: 0.7583 - val_loss: 0.4205 - val_accuracy: 0.8012\n",
      "Epoch 45/100\n",
      " - 5s - loss: 1.7445 - accuracy: 0.7568 - val_loss: 0.4211 - val_accuracy: 0.8012\n",
      "Epoch 46/100\n",
      " - 4s - loss: 1.7252 - accuracy: 0.7584 - val_loss: 0.4215 - val_accuracy: 0.8019\n",
      "Epoch 47/100\n",
      " - 4s - loss: 1.7225 - accuracy: 0.7597 - val_loss: 0.4216 - val_accuracy: 0.8025\n",
      "Epoch 48/100\n",
      " - 3s - loss: 1.7209 - accuracy: 0.7585 - val_loss: 0.4214 - val_accuracy: 0.8028\n",
      "Epoch 49/100\n",
      " - 3s - loss: 1.7537 - accuracy: 0.7571 - val_loss: 0.4208 - val_accuracy: 0.8035\n",
      "Epoch 50/100\n",
      " - 4s - loss: 1.7229 - accuracy: 0.7582 - val_loss: 0.4203 - val_accuracy: 0.8034\n",
      "Epoch 51/100\n",
      " - 4s - loss: 1.7366 - accuracy: 0.7590 - val_loss: 0.4199 - val_accuracy: 0.8037\n",
      "Epoch 52/100\n",
      " - 4s - loss: 1.7234 - accuracy: 0.7592 - val_loss: 0.4195 - val_accuracy: 0.8039\n",
      "Epoch 53/100\n",
      " - 4s - loss: 1.7263 - accuracy: 0.7599 - val_loss: 0.4192 - val_accuracy: 0.8042\n",
      "Epoch 54/100\n",
      " - 4s - loss: 1.7224 - accuracy: 0.7606 - val_loss: 0.4189 - val_accuracy: 0.8042\n",
      "Epoch 55/100\n",
      " - 3s - loss: 1.7088 - accuracy: 0.7615 - val_loss: 0.4185 - val_accuracy: 0.8040\n",
      "Epoch 56/100\n",
      " - 4s - loss: 1.7129 - accuracy: 0.7621 - val_loss: 0.4180 - val_accuracy: 0.8040\n",
      "Epoch 57/100\n",
      " - 3s - loss: 1.7155 - accuracy: 0.7610 - val_loss: 0.4176 - val_accuracy: 0.8043\n",
      "Epoch 58/100\n",
      " - 3s - loss: 1.7203 - accuracy: 0.7611 - val_loss: 0.4171 - val_accuracy: 0.8045\n",
      "Epoch 59/100\n",
      " - 3s - loss: 1.7159 - accuracy: 0.7611 - val_loss: 0.4169 - val_accuracy: 0.8047\n",
      "Epoch 60/100\n",
      " - 3s - loss: 1.7142 - accuracy: 0.7605 - val_loss: 0.4169 - val_accuracy: 0.8048\n",
      "Epoch 61/100\n",
      " - 3s - loss: 1.7251 - accuracy: 0.7609 - val_loss: 0.4169 - val_accuracy: 0.8049\n",
      "Epoch 62/100\n",
      " - 4s - loss: 1.7157 - accuracy: 0.7616 - val_loss: 0.4168 - val_accuracy: 0.8046\n",
      "Epoch 63/100\n",
      " - 4s - loss: 1.7084 - accuracy: 0.7613 - val_loss: 0.4169 - val_accuracy: 0.8049\n",
      "Epoch 64/100\n",
      " - 4s - loss: 1.7106 - accuracy: 0.7631 - val_loss: 0.4169 - val_accuracy: 0.8048\n",
      "Epoch 65/100\n",
      " - 4s - loss: 1.7471 - accuracy: 0.7614 - val_loss: 0.4170 - val_accuracy: 0.8050\n",
      "Epoch 66/100\n",
      " - 4s - loss: 1.7199 - accuracy: 0.7636 - val_loss: 0.4171 - val_accuracy: 0.8049\n",
      "Epoch 67/100\n",
      " - 3s - loss: 1.7120 - accuracy: 0.7627 - val_loss: 0.4172 - val_accuracy: 0.8048\n",
      "Epoch 68/100\n",
      " - 4s - loss: 1.7625 - accuracy: 0.7607 - val_loss: 0.4170 - val_accuracy: 0.8048\n",
      "Epoch 69/100\n",
      " - 4s - loss: 1.6942 - accuracy: 0.7664 - val_loss: 0.4168 - val_accuracy: 0.8048\n",
      "Epoch 70/100\n",
      " - 4s - loss: 1.7102 - accuracy: 0.7656 - val_loss: 0.4164 - val_accuracy: 0.8049\n",
      "Epoch 71/100\n",
      " - 4s - loss: 1.7172 - accuracy: 0.7644 - val_loss: 0.4159 - val_accuracy: 0.8051\n",
      "Epoch 72/100\n",
      " - 3s - loss: 1.7092 - accuracy: 0.7656 - val_loss: 0.4155 - val_accuracy: 0.8052\n",
      "Epoch 73/100\n",
      " - 4s - loss: 1.7004 - accuracy: 0.7658 - val_loss: 0.4151 - val_accuracy: 0.8054\n",
      "Epoch 74/100\n",
      " - 4s - loss: 1.7271 - accuracy: 0.7655 - val_loss: 0.4148 - val_accuracy: 0.8051\n",
      "Epoch 75/100\n",
      " - 3s - loss: 1.6868 - accuracy: 0.7679 - val_loss: 0.4145 - val_accuracy: 0.8054\n",
      "Epoch 76/100\n",
      " - 4s - loss: 1.7297 - accuracy: 0.7649 - val_loss: 0.4146 - val_accuracy: 0.8055\n",
      "Epoch 77/100\n",
      " - 4s - loss: 1.7211 - accuracy: 0.7656 - val_loss: 0.4148 - val_accuracy: 0.8055\n",
      "Epoch 78/100\n",
      " - 3s - loss: 1.7241 - accuracy: 0.7662 - val_loss: 0.4151 - val_accuracy: 0.8054\n",
      "Epoch 79/100\n",
      " - 3s - loss: 1.7270 - accuracy: 0.7669 - val_loss: 0.4152 - val_accuracy: 0.8054\n",
      "Epoch 80/100\n",
      " - 3s - loss: 1.7167 - accuracy: 0.7663 - val_loss: 0.4151 - val_accuracy: 0.8058\n",
      "Epoch 81/100\n",
      " - 3s - loss: 1.7060 - accuracy: 0.7661 - val_loss: 0.4148 - val_accuracy: 0.8060\n",
      "Epoch 82/100\n",
      " - 3s - loss: 1.7337 - accuracy: 0.7660 - val_loss: 0.4146 - val_accuracy: 0.8064\n",
      "Epoch 83/100\n",
      " - 3s - loss: 1.6954 - accuracy: 0.7681 - val_loss: 0.4146 - val_accuracy: 0.8066\n",
      "Epoch 84/100\n",
      " - 3s - loss: 1.7182 - accuracy: 0.7672 - val_loss: 0.4147 - val_accuracy: 0.8066\n",
      "Epoch 85/100\n",
      " - 3s - loss: 1.6930 - accuracy: 0.7682 - val_loss: 0.4147 - val_accuracy: 0.8065\n",
      "Epoch 86/100\n",
      " - 3s - loss: 1.7011 - accuracy: 0.7672 - val_loss: 0.4148 - val_accuracy: 0.8067\n"
     ]
    },
    {
     "name": "stdout",
     "output_type": "stream",
     "text": [
      "Epoch 87/100\n",
      " - 3s - loss: 1.6972 - accuracy: 0.7682 - val_loss: 0.4147 - val_accuracy: 0.8064\n",
      "Epoch 88/100\n",
      " - 3s - loss: 1.7076 - accuracy: 0.7669 - val_loss: 0.4148 - val_accuracy: 0.8061\n",
      "Epoch 89/100\n",
      " - 3s - loss: 1.7119 - accuracy: 0.7670 - val_loss: 0.4148 - val_accuracy: 0.8058\n",
      "Epoch 90/100\n",
      " - 3s - loss: 1.7187 - accuracy: 0.7670 - val_loss: 0.4145 - val_accuracy: 0.8058\n",
      "Epoch 91/100\n",
      " - 3s - loss: 1.7071 - accuracy: 0.7677 - val_loss: 0.4143 - val_accuracy: 0.8057\n",
      "Epoch 92/100\n",
      " - 4s - loss: 1.7465 - accuracy: 0.7645 - val_loss: 0.4140 - val_accuracy: 0.8057\n",
      "Epoch 93/100\n",
      " - 3s - loss: 1.7003 - accuracy: 0.7692 - val_loss: 0.4135 - val_accuracy: 0.8058\n",
      "Epoch 94/100\n",
      " - 3s - loss: 1.6896 - accuracy: 0.7674 - val_loss: 0.4132 - val_accuracy: 0.8059\n",
      "Epoch 95/100\n",
      " - 4s - loss: 1.7233 - accuracy: 0.7661 - val_loss: 0.4132 - val_accuracy: 0.8058\n",
      "Epoch 96/100\n",
      " - 4s - loss: 1.6938 - accuracy: 0.7685 - val_loss: 0.4133 - val_accuracy: 0.8060\n",
      "Epoch 97/100\n",
      " - 4s - loss: 1.7279 - accuracy: 0.7650 - val_loss: 0.4136 - val_accuracy: 0.8058\n",
      "Epoch 98/100\n",
      " - 4s - loss: 1.7297 - accuracy: 0.7667 - val_loss: 0.4138 - val_accuracy: 0.8060\n",
      "Epoch 99/100\n",
      " - 4s - loss: 1.7061 - accuracy: 0.7677 - val_loss: 0.4140 - val_accuracy: 0.8060\n",
      "Epoch 100/100\n",
      " - 4s - loss: 1.7286 - accuracy: 0.7658 - val_loss: 0.4140 - val_accuracy: 0.8060\n"
     ]
    }
   ],
   "source": [
    "history = model.fit(X_train, y_train, epochs=100, batch_size=128, validation_data=(X_test, y_test), verbose=2, shuffle=False)"
   ]
  },
  {
   "cell_type": "code",
   "execution_count": 6,
   "metadata": {},
   "outputs": [
    {
     "data": {
      "image/png": "[encoded data removed]",
      "text/plain": [
       "<Figure size 432x288 with 1 Axes>"
      ]
     },
     "metadata": {
      "needs_background": "light"
     },
     "output_type": "display_data"
    }
   ],
   "source": [
    "plt.plot(history.history['accuracy'])\n",
    "plt.plot(history.history['val_accuracy'])\n",
    "plt.title('model accuracy')\n",
    "plt.ylabel('accuracy')\n",
    "plt.xlabel('epoch')\n",
    "plt.legend(['train', 'test'], loc='upper left')\n",
    "plt.show()"
   ]
  },
  {
   "cell_type": "code",
   "execution_count": 7,
   "metadata": {},
   "outputs": [],
   "source": [
    "model.save(\"model.h5\")"
   ]
  },
  {
   "cell_type": "code",
   "execution_count": 8,
   "metadata": {},
   "outputs": [],
   "source": [
    "# model = load_model('model.h5')\n",
    "# model.summary()"
   ]
  },
  {
   "cell_type": "code",
   "execution_count": 11,
   "metadata": {},
   "outputs": [],
   "source": [
    "X_eval=np.expand_dims(X[-1],axis=0)\n",
    "X_eval.shape\n",
    "y_eval=np.expand_dims(y[-1],axis=0)\n",
    "score = model.predict(X_eval, verbose=0).reshape(-1)"
   ]
  },
  {
   "cell_type": "code",
   "execution_count": 12,
   "metadata": {},
   "outputs": [],
   "source": [
    "timestamp=np.load('timestamp.npy')"
   ]
  },
  {
   "cell_type": "code",
   "execution_count": 16,
   "metadata": {},
   "outputs": [
    {
     "data": {
      "image/png": "[encoded data removed]",
      "text/plain": [
       "<Figure size 432x288 with 1 Axes>"
      ]
     },
     "metadata": {
      "needs_background": "light"
     },
     "output_type": "display_data"
    }
   ],
   "source": [
    "fig = plt.figure()\n",
    "plt.plot(range(0,100),score[:100])\n",
    "plt.xticks(range(0,100),timestamp[14,:100], rotation='vertical')\n",
    "plt.show()"
   ]
  },
  {
   "cell_type": "code",
   "execution_count": 17,
   "metadata": {},
   "outputs": [
    {
     "data": {
      "text/plain": [
       "<Figure size 432x288 with 0 Axes>"
      ]
     },
     "metadata": {},
     "output_type": "display_data"
    }
   ],
   "source": [
    "plt.savefig('save_swing.pdf')"
   ]
  },
  {
   "cell_type": "code",
   "execution_count": null,
   "metadata": {},
   "outputs": [],
   "source": []
  }
 ],
 "metadata": {
  "kernelspec": {
   "display_name": "Python 3",
   "language": "python",
   "name": "python3"
  },
  "language_info": {
   "codemirror_mode": {
    "name": "ipython",
    "version": 3
   },
   "file_extension": ".py",
   "mimetype": "text/x-python",
   "name": "python",
   "nbconvert_exporter": "python",
   "pygments_lexer": "ipython3",
   "version": "3.7.6"
  }
 },
 "nbformat": 4,
 "nbformat_minor": 4
}
